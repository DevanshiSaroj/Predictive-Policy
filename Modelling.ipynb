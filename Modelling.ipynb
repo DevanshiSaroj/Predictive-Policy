{
  "cells": [
    {
      "cell_type": "markdown",
      "metadata": {},
      "source": [
        "1 Exploratory Data Analysis\n",
        "1.1 Understanding the Data"
      ]
    },
    {
      "cell_type": "code",
      "execution_count": 54,
      "metadata": {},
      "outputs": [
        {
          "name": "stdout",
          "output_type": "stream",
          "text": [
            "Mean Squared Error on Test Set: 39933194.54805147\n",
            "Predicted charges for new entry: 409.9077702359464\n"
          ]
        }
      ],
      "source": [
        "\n",
        "\n",
        "# Evaluating the model\n",
        "y_pred = pipeline.predict(X_test)\n",
        "mse = mean_squared_error(y_test, y_pred)\n",
        "print(f\"Mean Squared Error on Test Set: {mse}\")\n",
        "\n",
        "# Predicting charges for new entries (example)\n",
        "new_data = pd.DataFrame({\n",
        "    'age': [10],\n",
        "    'sex': ['male'],\n",
        "    'bmi': [30.0],\n",
        "    'children': [0],\n",
        "    'smoker': ['no'],\n",
        "    'region': ['northwest']\n",
        "})\n",
        "\n",
        "# Predicting with the pipeline\n",
        "predicted_charge = pipeline.predict(new_data)\n",
        "print(f\"Predicted charges for new entry: {predicted_charge[0]}\")\n"
      ]
    },
    {
      "cell_type": "code",
      "execution_count": 49,
      "metadata": {},
      "outputs": [
        {
          "name": "stdout",
          "output_type": "stream",
          "text": [
            "Index(['age', 'sex', 'bmi', 'children', 'smoker', 'region', 'charges'], dtype='object')\n"
          ]
        }
      ],
      "source": [
        "print(data.columns)\n"
      ]
    },
    {
      "cell_type": "code",
      "execution_count": 51,
      "metadata": {},
      "outputs": [
        {
          "name": "stdout",
          "output_type": "stream",
          "text": [
            "   age     sex     bmi  children smoker     region      charges\n",
            "0   19  female  27.900         0    yes  southwest  16884.92400\n",
            "1   18    male  33.770         1     no  southeast   1725.55230\n",
            "2   28    male  33.000         3     no  southeast   4449.46200\n",
            "3   33    male  22.705         0     no  northwest  21984.47061\n",
            "4   32    male  28.880         0     no  northwest   3866.85520\n",
            "Mean Squared Error on Test Set: 39933194.54805147\n"
          ]
        },
        {
          "data": {
            "text/plain": [
              "['preprocessor.pkl']"
            ]
          },
          "execution_count": 51,
          "metadata": {},
          "output_type": "execute_result"
        }
      ],
      "source": [
        "import pandas as pd\n",
        "from sklearn.model_selection import train_test_split\n",
        "from sklearn.preprocessing import StandardScaler, OneHotEncoder\n",
        "from sklearn.compose import ColumnTransformer\n",
        "from sklearn.pipeline import Pipeline\n",
        "from sklearn.linear_model import LinearRegression\n",
        "from sklearn.metrics import mean_squared_error\n",
        "import joblib\n",
        "\n",
        "# Load data\n",
        "data = pd.read_csv('medical_insurance.csv')\n",
        "\n",
        "# Display the first few rows to understand the structure\n",
        "print(data.head())\n",
        "\n",
        "# Define categorical and numerical columns\n",
        "cat_cols = ['sex', 'smoker', 'region']\n",
        "num_cols = ['age', 'bmi', 'children']\n",
        "\n",
        "# Split data into features (X) and target (y)\n",
        "X = data.drop('charges', axis=1)\n",
        "y = data['charges']\n",
        "\n",
        "# Split data into training and testing sets\n",
        "X_train, X_test, y_train, y_test = train_test_split(X, y, test_size=0.2, random_state=42)\n",
        "\n",
        "# Define preprocessing pipeline\n",
        "preprocessor = ColumnTransformer(\n",
        "    transformers=[\n",
        "        ('num', StandardScaler(), num_cols),\n",
        "        ('cat', OneHotEncoder(drop='first'), cat_cols)\n",
        "    ])\n",
        "\n",
        "# Define the model pipeline\n",
        "pipeline = Pipeline([\n",
        "    ('preprocessor', preprocessor),\n",
        "    ('regressor', LinearRegression())\n",
        "])\n",
        "\n",
        "# Train the model\n",
        "pipeline.fit(X_train, y_train)\n",
        "\n",
        "# Evaluate the model\n",
        "y_pred = pipeline.predict(X_test)\n",
        "mse = mean_squared_error(y_test, y_pred)\n",
        "print(f\"Mean Squared Error on Test Set: {mse}\")\n",
        "\n",
        "# Save the trained model and preprocessor\n",
        "joblib.dump(pipeline, 'model.pkl')\n",
        "joblib.dump(preprocessor, 'preprocessor.pkl')\n",
        "\n",
        "\n"
      ]
    },
    {
      "cell_type": "code",
      "execution_count": 52,
      "metadata": {},
      "outputs": [],
      "source": [
        "import joblib\n",
        "\n",
        "# Load trained model and preprocessor\n",
        "model = joblib.load('model.pkl')\n",
        "preprocessor = joblib.load('preprocessor.pkl')\n"
      ]
    },
    {
      "cell_type": "code",
      "execution_count": null,
      "metadata": {},
      "outputs": [],
      "source": []
    }
  ],
  "metadata": {
    "colab": {
      "provenance": []
    },
    "kernelspec": {
      "display_name": "Python 3",
      "name": "python3"
    },
    "language_info": {
      "codemirror_mode": {
        "name": "ipython",
        "version": 3
      },
      "file_extension": ".py",
      "mimetype": "text/x-python",
      "name": "python",
      "nbconvert_exporter": "python",
      "pygments_lexer": "ipython3",
      "version": "3.11.9"
    }
  },
  "nbformat": 4,
  "nbformat_minor": 0
}
